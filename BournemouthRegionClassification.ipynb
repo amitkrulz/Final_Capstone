{
    "cells": [
        {
            "cell_type": "markdown",
            "metadata": {
                "collapsed": true
            },
            "source": "# 1) A) Loading Data for Zip codes in Bournemouth"
        },
        {
            "cell_type": "code",
            "execution_count": 1,
            "metadata": {},
            "outputs": [],
            "source": "import pandas as pd\nimport requests"
        },
        {
            "cell_type": "code",
            "execution_count": 3,
            "metadata": {},
            "outputs": [
                {
                    "name": "stdout",
                    "output_type": "stream",
                    "text": "--2020-07-05 16:01:05--  https://www.getthedata.com/downloads/open_postcode_geo.csv.zip\nResolving www.getthedata.com (www.getthedata.com)... 95.154.195.188\nConnecting to www.getthedata.com (www.getthedata.com)|95.154.195.188|:443... connected.\nHTTP request sent, awaiting response... 200 OK\nLength: 64607200 (62M) [application/zip]\nSaving to: \u2018temp.zip\u2019\n\n100%[======================================>] 64,607,200   107MB/s   in 0.6s   \n\n2020-07-05 16:01:06 (107 MB/s) - \u2018temp.zip\u2019 saved [64607200/64607200]\n\nArchive:  temp.zip\n"
                },
                {
                    "data": {
                        "text/html": "<div>\n<style scoped>\n    .dataframe tbody tr th:only-of-type {\n        vertical-align: middle;\n    }\n\n    .dataframe tbody tr th {\n        vertical-align: top;\n    }\n\n    .dataframe thead th {\n        text-align: right;\n    }\n</style>\n<table border=\"1\" class=\"dataframe\">\n  <thead>\n    <tr style=\"text-align: right;\">\n      <th></th>\n      <th>postcode</th>\n      <th>status</th>\n      <th>usertype</th>\n      <th>easting</th>\n      <th>northing</th>\n      <th>positional_quality_indicator</th>\n      <th>country</th>\n      <th>latitude</th>\n      <th>longitude</th>\n      <th>postcode_no_space</th>\n      <th>postcode_fixed_width_seven</th>\n      <th>postcode_fixed_width_eight</th>\n      <th>postcode_area</th>\n      <th>postcode_district</th>\n      <th>postcode_sector</th>\n      <th>outcode</th>\n      <th>incode</th>\n    </tr>\n  </thead>\n  <tbody>\n    <tr>\n      <th>0</th>\n      <td>AB1 0AA</td>\n      <td>terminated</td>\n      <td>small</td>\n      <td>385386</td>\n      <td>801193</td>\n      <td>1</td>\n      <td>Scotland</td>\n      <td>57.101474</td>\n      <td>-2.242851</td>\n      <td>AB10AA</td>\n      <td>AB1 0AA</td>\n      <td>AB1  0AA</td>\n      <td>AB</td>\n      <td>AB1</td>\n      <td>AB1 0</td>\n      <td>AB1</td>\n      <td>0AA</td>\n    </tr>\n    <tr>\n      <th>1</th>\n      <td>AB1 0AB</td>\n      <td>terminated</td>\n      <td>small</td>\n      <td>385177</td>\n      <td>801314</td>\n      <td>1</td>\n      <td>Scotland</td>\n      <td>57.102554</td>\n      <td>-2.246308</td>\n      <td>AB10AB</td>\n      <td>AB1 0AB</td>\n      <td>AB1  0AB</td>\n      <td>AB</td>\n      <td>AB1</td>\n      <td>AB1 0</td>\n      <td>AB1</td>\n      <td>0AB</td>\n    </tr>\n    <tr>\n      <th>2</th>\n      <td>AB1 0AD</td>\n      <td>terminated</td>\n      <td>small</td>\n      <td>385053</td>\n      <td>801092</td>\n      <td>1</td>\n      <td>Scotland</td>\n      <td>57.100556</td>\n      <td>-2.248342</td>\n      <td>AB10AD</td>\n      <td>AB1 0AD</td>\n      <td>AB1  0AD</td>\n      <td>AB</td>\n      <td>AB1</td>\n      <td>AB1 0</td>\n      <td>AB1</td>\n      <td>0AD</td>\n    </tr>\n    <tr>\n      <th>3</th>\n      <td>AB1 0AE</td>\n      <td>terminated</td>\n      <td>small</td>\n      <td>384600</td>\n      <td>799300</td>\n      <td>8</td>\n      <td>Scotland</td>\n      <td>57.084444</td>\n      <td>-2.255708</td>\n      <td>AB10AE</td>\n      <td>AB1 0AE</td>\n      <td>AB1  0AE</td>\n      <td>AB</td>\n      <td>AB1</td>\n      <td>AB1 0</td>\n      <td>AB1</td>\n      <td>0AE</td>\n    </tr>\n    <tr>\n      <th>4</th>\n      <td>AB1 0AF</td>\n      <td>terminated</td>\n      <td>large</td>\n      <td>384460</td>\n      <td>800660</td>\n      <td>8</td>\n      <td>Scotland</td>\n      <td>57.096656</td>\n      <td>-2.258102</td>\n      <td>AB10AF</td>\n      <td>AB1 0AF</td>\n      <td>AB1  0AF</td>\n      <td>AB</td>\n      <td>AB1</td>\n      <td>AB1 0</td>\n      <td>AB1</td>\n      <td>0AF</td>\n    </tr>\n  </tbody>\n</table>\n</div>",
                        "text/plain": "  postcode      status usertype easting northing  \\\n0  AB1 0AA  terminated    small  385386   801193   \n1  AB1 0AB  terminated    small  385177   801314   \n2  AB1 0AD  terminated    small  385053   801092   \n3  AB1 0AE  terminated    small  384600   799300   \n4  AB1 0AF  terminated    large  384460   800660   \n\n   positional_quality_indicator   country   latitude  longitude  \\\n0                             1  Scotland  57.101474  -2.242851   \n1                             1  Scotland  57.102554  -2.246308   \n2                             1  Scotland  57.100556  -2.248342   \n3                             8  Scotland  57.084444  -2.255708   \n4                             8  Scotland  57.096656  -2.258102   \n\n  postcode_no_space postcode_fixed_width_seven postcode_fixed_width_eight  \\\n0            AB10AA                    AB1 0AA                   AB1  0AA   \n1            AB10AB                    AB1 0AB                   AB1  0AB   \n2            AB10AD                    AB1 0AD                   AB1  0AD   \n3            AB10AE                    AB1 0AE                   AB1  0AE   \n4            AB10AF                    AB1 0AF                   AB1  0AF   \n\n  postcode_area postcode_district postcode_sector outcode incode  \n0            AB               AB1           AB1 0     AB1    0AA  \n1            AB               AB1           AB1 0     AB1    0AB  \n2            AB               AB1           AB1 0     AB1    0AD  \n3            AB               AB1           AB1 0     AB1    0AE  \n4            AB               AB1           AB1 0     AB1    0AF  "
                    },
                    "execution_count": 3,
                    "metadata": {},
                    "output_type": "execute_result"
                }
            ],
            "source": "!wget -O 'temp.zip' https://www.getthedata.com/downloads/open_postcode_geo.csv.zip\n!unzip -f temp.zip \n!rm temp.zip \n\ndf1_zip = pd.read_csv('open_postcode_geo.csv', names=[\"postcode\",\"status\",\"usertype\",\"easting\",\"northing\",\"positional_quality_indicator\",\"country\",\"latitude\",\"longitude\",\"postcode_no_space\",\"postcode_fixed_width_seven\",\"postcode_fixed_width_eight\",\"postcode_area\",\"postcode_district\",\"postcode_sector\",\"outcode\",\"incode\"])\ndf1_zip.head()\n\n    "
        },
        {
            "cell_type": "code",
            "execution_count": 43,
            "metadata": {},
            "outputs": [],
            "source": "df_bournemouth_active = df1_zip.loc[(df1_zip['status'] == 'live') & (df1_zip['country'] == 'England') & (df1_zip['postcode_area']=='BH')]\n#[[df1_zip['status'] == 'live'] && [df1_zip['country'] == 'England']"
        },
        {
            "cell_type": "code",
            "execution_count": 44,
            "metadata": {},
            "outputs": [
                {
                    "data": {
                        "text/plain": "(15188, 17)"
                    },
                    "execution_count": 44,
                    "metadata": {},
                    "output_type": "execute_result"
                }
            ],
            "source": "df_bournemouth_active.shape"
        },
        {
            "cell_type": "code",
            "execution_count": 49,
            "metadata": {},
            "outputs": [
                {
                    "data": {
                        "text/plain": "<matplotlib.axes._subplots.AxesSubplot at 0x7fd0af205748>"
                    },
                    "execution_count": 49,
                    "metadata": {},
                    "output_type": "execute_result"
                },
                {
                    "data": {
                        "image/png": "[encoded data removed]",
                        "text/plain": "<Figure size 720x720 with 1 Axes>"
                    },
                    "metadata": {
                        "needs_background": "light"
                    },
                    "output_type": "display_data"
                }
            ],
            "source": "df_bournemouth_active.sort_values(by='outcode').groupby('outcode')['postcode'].count().plot(kind='bar', figsize =(10,10))"
        },
        {
            "cell_type": "code",
            "execution_count": null,
            "metadata": {},
            "outputs": [],
            "source": ""
        }
    ],
    "metadata": {
        "kernelspec": {
            "display_name": "Python 3.6",
            "language": "python",
            "name": "python3"
        },
        "language_info": {
            "codemirror_mode": {
                "name": "ipython",
                "version": 3
            },
            "file_extension": ".py",
            "mimetype": "text/x-python",
            "name": "python",
            "nbconvert_exporter": "python",
            "pygments_lexer": "ipython3",
            "version": "3.6.9"
        }
    },
    "nbformat": 4,
    "nbformat_minor": 1
}