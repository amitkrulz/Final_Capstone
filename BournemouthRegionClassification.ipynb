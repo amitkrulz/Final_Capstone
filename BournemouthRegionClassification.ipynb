{
    "cells": [
        {
            "cell_type": "markdown",
            "metadata": {
                "collapsed": true
            },
            "source": "# 1) A) Loading Data for Zip codes in Bournemouth"
        },
        {
            "cell_type": "code",
            "execution_count": 119,
            "metadata": {},
            "outputs": [],
            "source": "import pandas as pd\nimport requests"
        },
        {
            "cell_type": "code",
            "execution_count": 120,
            "metadata": {},
            "outputs": [
                {
                    "name": "stdout",
                    "output_type": "stream",
                    "text": "--2020-07-19 17:55:50--  https://www.getthedata.com/downloads/open_postcode_geo.csv.zip\nResolving www.getthedata.com (www.getthedata.com)... 95.154.195.188\nConnecting to www.getthedata.com (www.getthedata.com)|95.154.195.188|:443... connected.\nHTTP request sent, awaiting response... 200 OK\nLength: 64607200 (62M) [application/zip]\nSaving to: \u2018temp.zip\u2019\n\n100%[======================================>] 64,607,200   108MB/s   in 0.6s   \n\n2020-07-19 17:55:51 (108 MB/s) - \u2018temp.zip\u2019 saved [64607200/64607200]\n\n"
                }
            ],
            "source": "!wget -O 'temp.zip' https://www.getthedata.com/downloads/open_postcode_geo.csv.zip    "
        },
        {
            "cell_type": "code",
            "execution_count": 121,
            "metadata": {},
            "outputs": [
                {
                    "name": "stdout",
                    "output_type": "stream",
                    "text": "Archive:  temp.zip\r\n"
                }
            ],
            "source": "!unzip -f temp.zip\n!rm temp.zip "
        },
        {
            "cell_type": "code",
            "execution_count": 122,
            "metadata": {},
            "outputs": [],
            "source": "#import os\n#for subdir, dirs, files in os.walk('./'):\n#    for file in files:\n#      print(file)"
        },
        {
            "cell_type": "code",
            "execution_count": 123,
            "metadata": {},
            "outputs": [
                {
                    "name": "stderr",
                    "output_type": "stream",
                    "text": "/opt/conda/envs/Python36/lib/python3.6/site-packages/IPython/core/interactiveshell.py:3020: DtypeWarning: Columns (3,4,7,8) have mixed types. Specify dtype option on import or set low_memory=False.\n  interactivity=interactivity, compiler=compiler, result=result)\n"
                }
            ],
            "source": "df1_zip = pd.read_csv('open_postcode_geo.csv', names=[\"postcode\",\"status\",\"usertype\",\"easting\",\"northing\",\"positional_quality_indicator\",\"country\",\"latitude\",\"longitude\",\"postcode_no_space\",\"postcode_fixed_width_seven\",\"postcode_fixed_width_eight\",\"postcode_area\",\"postcode_district\",\"postcode_sector\",\"outcode\",\"incode\"])\n#df1_zip.head()"
        },
        {
            "cell_type": "code",
            "execution_count": 124,
            "metadata": {},
            "outputs": [],
            "source": "df_bournemouth_active = df1_zip.loc[(df1_zip['status'] == 'live') & (df1_zip['country'] == 'England') & (df1_zip['postcode_area']=='BH')]\n#[[df1_zip['status'] == 'live'] && [df1_zip['country'] == 'England']"
        },
        {
            "cell_type": "code",
            "execution_count": 125,
            "metadata": {},
            "outputs": [
                {
                    "data": {
                        "text/html": "<div>\n<style scoped>\n    .dataframe tbody tr th:only-of-type {\n        vertical-align: middle;\n    }\n\n    .dataframe tbody tr th {\n        vertical-align: top;\n    }\n\n    .dataframe thead th {\n        text-align: right;\n    }\n</style>\n<table border=\"1\" class=\"dataframe\">\n  <thead>\n    <tr style=\"text-align: right;\">\n      <th></th>\n      <th>postcode</th>\n      <th>status</th>\n      <th>usertype</th>\n      <th>easting</th>\n      <th>northing</th>\n      <th>positional_quality_indicator</th>\n      <th>country</th>\n      <th>latitude</th>\n      <th>longitude</th>\n      <th>postcode_no_space</th>\n      <th>postcode_fixed_width_seven</th>\n      <th>postcode_fixed_width_eight</th>\n      <th>postcode_area</th>\n      <th>postcode_district</th>\n      <th>postcode_sector</th>\n      <th>outcode</th>\n      <th>incode</th>\n    </tr>\n  </thead>\n  <tbody>\n    <tr>\n      <th>173266</th>\n      <td>BH1 1AA</td>\n      <td>live</td>\n      <td>large</td>\n      <td>409722</td>\n      <td>92041</td>\n      <td>1</td>\n      <td>England</td>\n      <td>50.727909</td>\n      <td>-1.863623</td>\n      <td>BH11AA</td>\n      <td>BH1 1AA</td>\n      <td>BH1  1AA</td>\n      <td>BH</td>\n      <td>BH1</td>\n      <td>BH1 1</td>\n      <td>BH1</td>\n      <td>1AA</td>\n    </tr>\n    <tr>\n      <th>173268</th>\n      <td>BH1 1AF</td>\n      <td>live</td>\n      <td>small</td>\n      <td>409181</td>\n      <td>91523</td>\n      <td>1</td>\n      <td>England</td>\n      <td>50.723260</td>\n      <td>-1.871300</td>\n      <td>BH11AF</td>\n      <td>BH1 1AF</td>\n      <td>BH1  1AF</td>\n      <td>BH</td>\n      <td>BH1</td>\n      <td>BH1 1</td>\n      <td>BH1</td>\n      <td>1AF</td>\n    </tr>\n    <tr>\n      <th>173270</th>\n      <td>BH1 1AH</td>\n      <td>live</td>\n      <td>small</td>\n      <td>409265</td>\n      <td>91464</td>\n      <td>1</td>\n      <td>England</td>\n      <td>50.722728</td>\n      <td>-1.870112</td>\n      <td>BH11AH</td>\n      <td>BH1 1AH</td>\n      <td>BH1  1AH</td>\n      <td>BH</td>\n      <td>BH1</td>\n      <td>BH1 1</td>\n      <td>BH1</td>\n      <td>1AH</td>\n    </tr>\n    <tr>\n      <th>173271</th>\n      <td>BH1 1AJ</td>\n      <td>live</td>\n      <td>small</td>\n      <td>409162</td>\n      <td>92265</td>\n      <td>1</td>\n      <td>England</td>\n      <td>50.729932</td>\n      <td>-1.871551</td>\n      <td>BH11AJ</td>\n      <td>BH1 1AJ</td>\n      <td>BH1  1AJ</td>\n      <td>BH</td>\n      <td>BH1</td>\n      <td>BH1 1</td>\n      <td>BH1</td>\n      <td>1AJ</td>\n    </tr>\n    <tr>\n      <th>173272</th>\n      <td>BH1 1AL</td>\n      <td>live</td>\n      <td>small</td>\n      <td>409284</td>\n      <td>91366</td>\n      <td>1</td>\n      <td>England</td>\n      <td>50.721846</td>\n      <td>-1.869845</td>\n      <td>BH11AL</td>\n      <td>BH1 1AL</td>\n      <td>BH1  1AL</td>\n      <td>BH</td>\n      <td>BH1</td>\n      <td>BH1 1</td>\n      <td>BH1</td>\n      <td>1AL</td>\n    </tr>\n  </tbody>\n</table>\n</div>",
                        "text/plain": "       postcode status usertype easting northing  \\\n173266  BH1 1AA   live    large  409722    92041   \n173268  BH1 1AF   live    small  409181    91523   \n173270  BH1 1AH   live    small  409265    91464   \n173271  BH1 1AJ   live    small  409162    92265   \n173272  BH1 1AL   live    small  409284    91366   \n\n        positional_quality_indicator  country   latitude  longitude  \\\n173266                             1  England  50.727909  -1.863623   \n173268                             1  England  50.723260  -1.871300   \n173270                             1  England  50.722728  -1.870112   \n173271                             1  England  50.729932  -1.871551   \n173272                             1  England  50.721846  -1.869845   \n\n       postcode_no_space postcode_fixed_width_seven  \\\n173266            BH11AA                    BH1 1AA   \n173268            BH11AF                    BH1 1AF   \n173270            BH11AH                    BH1 1AH   \n173271            BH11AJ                    BH1 1AJ   \n173272            BH11AL                    BH1 1AL   \n\n       postcode_fixed_width_eight postcode_area postcode_district  \\\n173266                   BH1  1AA            BH               BH1   \n173268                   BH1  1AF            BH               BH1   \n173270                   BH1  1AH            BH               BH1   \n173271                   BH1  1AJ            BH               BH1   \n173272                   BH1  1AL            BH               BH1   \n\n       postcode_sector outcode incode  \n173266           BH1 1     BH1    1AA  \n173268           BH1 1     BH1    1AF  \n173270           BH1 1     BH1    1AH  \n173271           BH1 1     BH1    1AJ  \n173272           BH1 1     BH1    1AL  "
                    },
                    "execution_count": 125,
                    "metadata": {},
                    "output_type": "execute_result"
                }
            ],
            "source": "df_bournemouth_active.head()"
        },
        {
            "cell_type": "code",
            "execution_count": 126,
            "metadata": {},
            "outputs": [
                {
                    "name": "stderr",
                    "output_type": "stream",
                    "text": "/opt/conda/envs/Python36/lib/python3.6/site-packages/pandas/core/frame.py:3391: SettingWithCopyWarning: \nA value is trying to be set on a copy of a slice from a DataFrame.\nTry using .loc[row_indexer,col_indexer] = value instead\n\nSee the caveats in the documentation: http://pandas.pydata.org/pandas-docs/stable/indexing.html#indexing-view-versus-copy\n  self[k1] = value[k2]\n"
                },
                {
                    "data": {
                        "text/plain": "postcode                         object\nstatus                           object\nusertype                         object\neasting                          object\nnorthing                         object\npositional_quality_indicator      int64\ncountry                          object\nlatitude                        float64\nlongitude                       float64\npostcode_no_space                object\npostcode_fixed_width_seven       object\npostcode_fixed_width_eight       object\npostcode_area                    object\npostcode_district                object\npostcode_sector                  object\noutcode                          object\nincode                           object\ndtype: object"
                    },
                    "execution_count": 126,
                    "metadata": {},
                    "output_type": "execute_result"
                }
            ],
            "source": "#df_bournemouth_active.sort_values(by='outcode').groupby('outcode')['postcode'].count().plot(kind='bar', figsize =(10,10))\ndf_bournemouth_active[[\"latitude\", \"longitude\"]] = df_bournemouth_active[[\"latitude\", \"longitude\"]].apply(pd.to_numeric)\n\ndf_bournemouth_active.dtypes"
        },
        {
            "cell_type": "code",
            "execution_count": 146,
            "metadata": {},
            "outputs": [],
            "source": "df_zip_group = df_bournemouth_active.groupby('outcode')['latitude','longitude'].mean()"
        },
        {
            "cell_type": "code",
            "execution_count": 147,
            "metadata": {},
            "outputs": [
                {
                    "data": {
                        "text/html": "<div>\n<style scoped>\n    .dataframe tbody tr th:only-of-type {\n        vertical-align: middle;\n    }\n\n    .dataframe tbody tr th {\n        vertical-align: top;\n    }\n\n    .dataframe thead th {\n        text-align: right;\n    }\n</style>\n<table border=\"1\" class=\"dataframe\">\n  <thead>\n    <tr style=\"text-align: right;\">\n      <th></th>\n      <th>outcode</th>\n      <th>latitude</th>\n      <th>longitude</th>\n    </tr>\n  </thead>\n  <tbody>\n    <tr>\n      <th>0</th>\n      <td>BH1</td>\n      <td>50.724864</td>\n      <td>-1.860988</td>\n    </tr>\n    <tr>\n      <th>1</th>\n      <td>BH10</td>\n      <td>50.759580</td>\n      <td>-1.892961</td>\n    </tr>\n    <tr>\n      <th>2</th>\n      <td>BH11</td>\n      <td>50.762143</td>\n      <td>-1.919640</td>\n    </tr>\n    <tr>\n      <th>3</th>\n      <td>BH12</td>\n      <td>50.737363</td>\n      <td>-1.927771</td>\n    </tr>\n    <tr>\n      <th>4</th>\n      <td>BH13</td>\n      <td>50.708815</td>\n      <td>-1.920506</td>\n    </tr>\n    <tr>\n      <th>5</th>\n      <td>BH14</td>\n      <td>50.721349</td>\n      <td>-1.944453</td>\n    </tr>\n    <tr>\n      <th>6</th>\n      <td>BH15</td>\n      <td>50.722376</td>\n      <td>-1.984975</td>\n    </tr>\n    <tr>\n      <th>7</th>\n      <td>BH16</td>\n      <td>50.740211</td>\n      <td>-2.047840</td>\n    </tr>\n    <tr>\n      <th>8</th>\n      <td>BH17</td>\n      <td>50.746884</td>\n      <td>-1.980080</td>\n    </tr>\n    <tr>\n      <th>9</th>\n      <td>BH18</td>\n      <td>50.759552</td>\n      <td>-1.998470</td>\n    </tr>\n    <tr>\n      <th>10</th>\n      <td>BH19</td>\n      <td>50.611670</td>\n      <td>-1.970711</td>\n    </tr>\n    <tr>\n      <th>11</th>\n      <td>BH2</td>\n      <td>50.721072</td>\n      <td>-1.884056</td>\n    </tr>\n    <tr>\n      <th>12</th>\n      <td>BH20</td>\n      <td>50.687002</td>\n      <td>-2.148341</td>\n    </tr>\n    <tr>\n      <th>13</th>\n      <td>BH21</td>\n      <td>50.812856</td>\n      <td>-1.974672</td>\n    </tr>\n    <tr>\n      <th>14</th>\n      <td>BH22</td>\n      <td>50.805327</td>\n      <td>-1.888596</td>\n    </tr>\n    <tr>\n      <th>15</th>\n      <td>BH23</td>\n      <td>50.747471</td>\n      <td>-1.754571</td>\n    </tr>\n    <tr>\n      <th>16</th>\n      <td>BH24</td>\n      <td>50.843272</td>\n      <td>-1.788325</td>\n    </tr>\n    <tr>\n      <th>17</th>\n      <td>BH25</td>\n      <td>50.752814</td>\n      <td>-1.657952</td>\n    </tr>\n    <tr>\n      <th>18</th>\n      <td>BH3</td>\n      <td>50.736581</td>\n      <td>-1.883354</td>\n    </tr>\n    <tr>\n      <th>19</th>\n      <td>BH31</td>\n      <td>50.875970</td>\n      <td>-1.872621</td>\n    </tr>\n    <tr>\n      <th>20</th>\n      <td>BH4</td>\n      <td>50.721266</td>\n      <td>-1.899715</td>\n    </tr>\n    <tr>\n      <th>21</th>\n      <td>BH5</td>\n      <td>50.725312</td>\n      <td>-1.832305</td>\n    </tr>\n    <tr>\n      <th>22</th>\n      <td>BH6</td>\n      <td>50.727644</td>\n      <td>-1.801927</td>\n    </tr>\n    <tr>\n      <th>23</th>\n      <td>BH7</td>\n      <td>50.736343</td>\n      <td>-1.826573</td>\n    </tr>\n    <tr>\n      <th>24</th>\n      <td>BH8</td>\n      <td>50.742079</td>\n      <td>-1.851884</td>\n    </tr>\n    <tr>\n      <th>25</th>\n      <td>BH9</td>\n      <td>50.749616</td>\n      <td>-1.872753</td>\n    </tr>\n  </tbody>\n</table>\n</div>",
                        "text/plain": "   outcode   latitude  longitude\n0      BH1  50.724864  -1.860988\n1     BH10  50.759580  -1.892961\n2     BH11  50.762143  -1.919640\n3     BH12  50.737363  -1.927771\n4     BH13  50.708815  -1.920506\n5     BH14  50.721349  -1.944453\n6     BH15  50.722376  -1.984975\n7     BH16  50.740211  -2.047840\n8     BH17  50.746884  -1.980080\n9     BH18  50.759552  -1.998470\n10    BH19  50.611670  -1.970711\n11     BH2  50.721072  -1.884056\n12    BH20  50.687002  -2.148341\n13    BH21  50.812856  -1.974672\n14    BH22  50.805327  -1.888596\n15    BH23  50.747471  -1.754571\n16    BH24  50.843272  -1.788325\n17    BH25  50.752814  -1.657952\n18     BH3  50.736581  -1.883354\n19    BH31  50.875970  -1.872621\n20     BH4  50.721266  -1.899715\n21     BH5  50.725312  -1.832305\n22     BH6  50.727644  -1.801927\n23     BH7  50.736343  -1.826573\n24     BH8  50.742079  -1.851884\n25     BH9  50.749616  -1.872753"
                    },
                    "execution_count": 147,
                    "metadata": {},
                    "output_type": "execute_result"
                }
            ],
            "source": "df_zip_group.reset_index(inplace=True)\n\n#df_zip_group"
        },
        {
            "cell_type": "code",
            "execution_count": 148,
            "metadata": {},
            "outputs": [],
            "source": "df_zip_group.columns = ['Postal Code','Latitude', 'Longitude']"
        },
        {
            "cell_type": "code",
            "execution_count": 149,
            "metadata": {},
            "outputs": [
                {
                    "data": {
                        "text/html": "<div>\n<style scoped>\n    .dataframe tbody tr th:only-of-type {\n        vertical-align: middle;\n    }\n\n    .dataframe tbody tr th {\n        vertical-align: top;\n    }\n\n    .dataframe thead th {\n        text-align: right;\n    }\n</style>\n<table border=\"1\" class=\"dataframe\">\n  <thead>\n    <tr style=\"text-align: right;\">\n      <th></th>\n      <th>Postal Code</th>\n      <th>Latitude</th>\n      <th>Longitude</th>\n      <th>House Price</th>\n    </tr>\n  </thead>\n  <tbody>\n    <tr>\n      <th>0</th>\n      <td>BH1</td>\n      <td>50.724864</td>\n      <td>-1.860988</td>\n      <td>0.0</td>\n    </tr>\n    <tr>\n      <th>1</th>\n      <td>BH10</td>\n      <td>50.759580</td>\n      <td>-1.892961</td>\n      <td>0.0</td>\n    </tr>\n    <tr>\n      <th>2</th>\n      <td>BH11</td>\n      <td>50.762143</td>\n      <td>-1.919640</td>\n      <td>0.0</td>\n    </tr>\n    <tr>\n      <th>3</th>\n      <td>BH12</td>\n      <td>50.737363</td>\n      <td>-1.927771</td>\n      <td>0.0</td>\n    </tr>\n    <tr>\n      <th>4</th>\n      <td>BH13</td>\n      <td>50.708815</td>\n      <td>-1.920506</td>\n      <td>0.0</td>\n    </tr>\n  </tbody>\n</table>\n</div>",
                        "text/plain": "  Postal Code   Latitude  Longitude  House Price\n0         BH1  50.724864  -1.860988          0.0\n1        BH10  50.759580  -1.892961          0.0\n2        BH11  50.762143  -1.919640          0.0\n3        BH12  50.737363  -1.927771          0.0\n4        BH13  50.708815  -1.920506          0.0"
                    },
                    "execution_count": 149,
                    "metadata": {},
                    "output_type": "execute_result"
                }
            ],
            "source": "df_zip_group['House Price'] = 0.0\ndf_zip_group.head(5)"
        },
        {
            "cell_type": "code",
            "execution_count": 150,
            "metadata": {},
            "outputs": [
                {
                    "name": "stdout",
                    "output_type": "stream",
                    "text": " Detached \u00a3473,737\n"
                },
                {
                    "name": "stderr",
                    "output_type": "stream",
                    "text": "/opt/conda/envs/Python36/lib/python3.6/site-packages/ipykernel/__main__.py:7: SettingWithCopyWarning: \nA value is trying to be set on a copy of a slice from a DataFrame\n\nSee the caveats in the documentation: http://pandas.pydata.org/pandas-docs/stable/indexing.html#indexing-view-versus-copy\n"
                },
                {
                    "name": "stdout",
                    "output_type": "stream",
                    "text": " Detached \u00a3319,981\n Detached \u00a3314,385\n Detached \u00a3312,703\n Detached \u00a31,612,349\n Detached \u00a3712,123\n Detached \u00a3363,262\n Detached \u00a3388,158\n Detached \u00a3332,855\n Detached \u00a3485,518\n Detached \u00a3544,777\n Detached \u00a3594,750\n Detached \u00a3441,536\n Detached \u00a3490,747\n Detached \u00a3467,071\n Detached \u00a3493,049\n Detached \u00a3545,088\n Detached \u00a3473,508\n Detached \u00a3718,151\n Detached \u00a3411,698\n Detached \u00a3714,105\n Detached \u00a3556,806\n Detached \u00a3493,807\n Detached \u00a3437,582\n Detached \u00a3421,272\n Detached \u00a3351,483\n"
                }
            ],
            "source": "for ind in df_zip_group.index:\n    #print(df_zip_group['latitude'][outcode])\n    df_prices = pd.read_html('https://www.streetlist.co.uk/bh/'+df_zip_group['Postal Code'][ind])\n    df_prices = df_prices[0]\n    #print(df_prices['Type of Property'])\n    print(' '+str(df_prices['Type of Property'][0]) +' '+ str(df_prices['2018 Average'][0]))\n    df_zip_group['House Price'][ind] = df_prices['2018 Average'][0]"
        },
        {
            "cell_type": "code",
            "execution_count": 151,
            "metadata": {},
            "outputs": [
                {
                    "data": {
                        "text/html": "<div>\n<style scoped>\n    .dataframe tbody tr th:only-of-type {\n        vertical-align: middle;\n    }\n\n    .dataframe tbody tr th {\n        vertical-align: top;\n    }\n\n    .dataframe thead th {\n        text-align: right;\n    }\n</style>\n<table border=\"1\" class=\"dataframe\">\n  <thead>\n    <tr style=\"text-align: right;\">\n      <th></th>\n      <th>Postal Code</th>\n      <th>Latitude</th>\n      <th>Longitude</th>\n      <th>House Price</th>\n    </tr>\n  </thead>\n  <tbody>\n    <tr>\n      <th>0</th>\n      <td>BH1</td>\n      <td>50.724864</td>\n      <td>-1.860988</td>\n      <td>\u00a3473,737</td>\n    </tr>\n    <tr>\n      <th>1</th>\n      <td>BH10</td>\n      <td>50.759580</td>\n      <td>-1.892961</td>\n      <td>\u00a3319,981</td>\n    </tr>\n    <tr>\n      <th>2</th>\n      <td>BH11</td>\n      <td>50.762143</td>\n      <td>-1.919640</td>\n      <td>\u00a3314,385</td>\n    </tr>\n    <tr>\n      <th>3</th>\n      <td>BH12</td>\n      <td>50.737363</td>\n      <td>-1.927771</td>\n      <td>\u00a3312,703</td>\n    </tr>\n    <tr>\n      <th>4</th>\n      <td>BH13</td>\n      <td>50.708815</td>\n      <td>-1.920506</td>\n      <td>\u00a31,612,349</td>\n    </tr>\n    <tr>\n      <th>5</th>\n      <td>BH14</td>\n      <td>50.721349</td>\n      <td>-1.944453</td>\n      <td>\u00a3712,123</td>\n    </tr>\n    <tr>\n      <th>6</th>\n      <td>BH15</td>\n      <td>50.722376</td>\n      <td>-1.984975</td>\n      <td>\u00a3363,262</td>\n    </tr>\n    <tr>\n      <th>7</th>\n      <td>BH16</td>\n      <td>50.740211</td>\n      <td>-2.047840</td>\n      <td>\u00a3388,158</td>\n    </tr>\n    <tr>\n      <th>8</th>\n      <td>BH17</td>\n      <td>50.746884</td>\n      <td>-1.980080</td>\n      <td>\u00a3332,855</td>\n    </tr>\n    <tr>\n      <th>9</th>\n      <td>BH18</td>\n      <td>50.759552</td>\n      <td>-1.998470</td>\n      <td>\u00a3485,518</td>\n    </tr>\n    <tr>\n      <th>10</th>\n      <td>BH19</td>\n      <td>50.611670</td>\n      <td>-1.970711</td>\n      <td>\u00a3544,777</td>\n    </tr>\n    <tr>\n      <th>11</th>\n      <td>BH2</td>\n      <td>50.721072</td>\n      <td>-1.884056</td>\n      <td>\u00a3594,750</td>\n    </tr>\n    <tr>\n      <th>12</th>\n      <td>BH20</td>\n      <td>50.687002</td>\n      <td>-2.148341</td>\n      <td>\u00a3441,536</td>\n    </tr>\n    <tr>\n      <th>13</th>\n      <td>BH21</td>\n      <td>50.812856</td>\n      <td>-1.974672</td>\n      <td>\u00a3490,747</td>\n    </tr>\n    <tr>\n      <th>14</th>\n      <td>BH22</td>\n      <td>50.805327</td>\n      <td>-1.888596</td>\n      <td>\u00a3467,071</td>\n    </tr>\n    <tr>\n      <th>15</th>\n      <td>BH23</td>\n      <td>50.747471</td>\n      <td>-1.754571</td>\n      <td>\u00a3493,049</td>\n    </tr>\n    <tr>\n      <th>16</th>\n      <td>BH24</td>\n      <td>50.843272</td>\n      <td>-1.788325</td>\n      <td>\u00a3545,088</td>\n    </tr>\n    <tr>\n      <th>17</th>\n      <td>BH25</td>\n      <td>50.752814</td>\n      <td>-1.657952</td>\n      <td>\u00a3473,508</td>\n    </tr>\n    <tr>\n      <th>18</th>\n      <td>BH3</td>\n      <td>50.736581</td>\n      <td>-1.883354</td>\n      <td>\u00a3718,151</td>\n    </tr>\n    <tr>\n      <th>19</th>\n      <td>BH31</td>\n      <td>50.875970</td>\n      <td>-1.872621</td>\n      <td>\u00a3411,698</td>\n    </tr>\n    <tr>\n      <th>20</th>\n      <td>BH4</td>\n      <td>50.721266</td>\n      <td>-1.899715</td>\n      <td>\u00a3714,105</td>\n    </tr>\n    <tr>\n      <th>21</th>\n      <td>BH5</td>\n      <td>50.725312</td>\n      <td>-1.832305</td>\n      <td>\u00a3556,806</td>\n    </tr>\n    <tr>\n      <th>22</th>\n      <td>BH6</td>\n      <td>50.727644</td>\n      <td>-1.801927</td>\n      <td>\u00a3493,807</td>\n    </tr>\n    <tr>\n      <th>23</th>\n      <td>BH7</td>\n      <td>50.736343</td>\n      <td>-1.826573</td>\n      <td>\u00a3437,582</td>\n    </tr>\n    <tr>\n      <th>24</th>\n      <td>BH8</td>\n      <td>50.742079</td>\n      <td>-1.851884</td>\n      <td>\u00a3421,272</td>\n    </tr>\n    <tr>\n      <th>25</th>\n      <td>BH9</td>\n      <td>50.749616</td>\n      <td>-1.872753</td>\n      <td>\u00a3351,483</td>\n    </tr>\n  </tbody>\n</table>\n</div>",
                        "text/plain": "   Postal Code   Latitude  Longitude House Price\n0          BH1  50.724864  -1.860988    \u00a3473,737\n1         BH10  50.759580  -1.892961    \u00a3319,981\n2         BH11  50.762143  -1.919640    \u00a3314,385\n3         BH12  50.737363  -1.927771    \u00a3312,703\n4         BH13  50.708815  -1.920506  \u00a31,612,349\n5         BH14  50.721349  -1.944453    \u00a3712,123\n6         BH15  50.722376  -1.984975    \u00a3363,262\n7         BH16  50.740211  -2.047840    \u00a3388,158\n8         BH17  50.746884  -1.980080    \u00a3332,855\n9         BH18  50.759552  -1.998470    \u00a3485,518\n10        BH19  50.611670  -1.970711    \u00a3544,777\n11         BH2  50.721072  -1.884056    \u00a3594,750\n12        BH20  50.687002  -2.148341    \u00a3441,536\n13        BH21  50.812856  -1.974672    \u00a3490,747\n14        BH22  50.805327  -1.888596    \u00a3467,071\n15        BH23  50.747471  -1.754571    \u00a3493,049\n16        BH24  50.843272  -1.788325    \u00a3545,088\n17        BH25  50.752814  -1.657952    \u00a3473,508\n18         BH3  50.736581  -1.883354    \u00a3718,151\n19        BH31  50.875970  -1.872621    \u00a3411,698\n20         BH4  50.721266  -1.899715    \u00a3714,105\n21         BH5  50.725312  -1.832305    \u00a3556,806\n22         BH6  50.727644  -1.801927    \u00a3493,807\n23         BH7  50.736343  -1.826573    \u00a3437,582\n24         BH8  50.742079  -1.851884    \u00a3421,272\n25         BH9  50.749616  -1.872753    \u00a3351,483"
                    },
                    "execution_count": 151,
                    "metadata": {},
                    "output_type": "execute_result"
                }
            ],
            "source": "df_zip_group.head()\n\ndf_final = df_zip_group\n\n\n#print('Before dropping Boroughs ='.join(df.shape))\n#df_wikipedia= df[df['Borough'] != 'Not assigned'].reset_index(drop= True)\n\n#there are no Postal codes repeated so we dont need to concatinate the Neighbourhoods.\n\n#df_wikipedia.shape\n\ndf_final"
        },
        {
            "cell_type": "code",
            "execution_count": 152,
            "metadata": {},
            "outputs": [],
            "source": "import requests\nfrom pandas.io.json import json_normalize\n\n\nfourSqAPIURL = \"https://api.foursquare.com/v2/venues/explore\"\nCLIENT_ID =\"NINRXL4F12KA0T5Y40SQD1CGLLM2FK1XGE1YZBYMVQINX45V\"\nCLIENT_SECRET= \"4NSTMXF2D5VWNSAMNRUMP3RC1W4NHOLDSVOLK3UX1BXBAZD5\"\n"
        },
        {
            "cell_type": "code",
            "execution_count": 153,
            "metadata": {},
            "outputs": [],
            "source": "def fetch_venue_Details(postalcode,latitude,longitude,v_list):\n    new_venue = {'Postal Code':postalcode,'Latitude':latitude, 'Longitude':longitude,'Type':[],'Name':[]}\n\n    new_venue[\"Name\"] = v_list[\"venue\"][\"name\"]\n    new_venue[\"Type\"] = v_list[\"venue\"][\"categories\"][0]['pluralName']\n    \n\n    new_venues = pd.DataFrame(new_venue, index =[0])\n    \n  \n   # new_venues = new_venues.append(new_venue,ignore_index=True)\n    #print('after--- '+ str(new_venues))\n    return new_venues"
        },
        {
            "cell_type": "code",
            "execution_count": 156,
            "metadata": {},
            "outputs": [
                {
                    "name": "stdout",
                    "output_type": "stream",
                    "text": "reached\nreached\nreached\nreached\nreached\nreached\nreached\nreached\nreached\nreached\nreached\nreached\nreached\nreached\nreached\nreached\nreached\nreached\nreached\nreached\nreached\nreached\nreached\nreached\nreached\nreached\nreached\nreached\nreached\nreached\nreached\nreached\nreached\nreached\nreached\nreached\nreached\nreached\nreached\nreached\nreached\nreached\nreached\nreached\nreached\nreached\nreached\nreached\nreached\nreached\nreached\nreached\nreached\nreached\nreached\nreached\nreached\nreached\nreached\nreached\nreached\nreached\nreached\nreached\nreached\nreached\nreached\nreached\nreached\nreached\nreached\nreached\nreached\nreached\nreached\nreached\nreached\nreached\nreached\nreached\nreached\nreached\nreached\nreached\nreached\nreached\nreached\nreached\nreached\nreached\nreached\nreached\nreached\nreached\nreached\nreached\nreached\nreached\nreached\nreached\nreached\nreached\nreached\nreached\nreached\nreached\nreached\nreached\nreached\nreached\nreached\nreached\nreached\nreached\nreached\nreached\nreached\nreached\nreached\nreached\nreached\nreached\nreached\nreached\nreached\nreached\nreached\nreached\nreached\nreached\nreached\nreached\nreached\nreached\nreached\nreached\nreached\nreached\nreached\nreached\nreached\nreached\nreached\nreached\nreached\nreached\nreached\nreached\nreached\nreached\nreached\nreached\nreached\nreached\nreached\nreached\nreached\nreached\nreached\nreached\nreached\nreached\nreached\nreached\nreached\nreached\nreached\nreached\nreached\nreached\nreached\nreached\nreached\nreached\nreached\nreached\nreached\nreached\nreached\nreached\nreached\nreached\nreached\nreached\nreached\nreached\nreached\nreached\nreached\nreached\nreached\nreached\nreached\nreached\nreached\nreached\nreached\nreached\nreached\nreached\nreached\nreached\nreached\nreached\nreached\nreached\nreached\nreached\nreached\nreached\nreached\nreached\nreached\nreached\nreached\nreached\nreached\nreached\nreached\nreached\nreached\nreached\nreached\nreached\nreached\nreached\nreached\nreached\nreached\nreached\nreached\nreached\nreached\nreached\nreached\nreached\nreached\nreached\nreached\nreached\nreached\nreached\nreached\nreached\nreached\nreached\nreached\nreached\nreached\nreached\nreached\nreached\nreached\nreached\nreached\nreached\nreached\nreached\nreached\nreached\nreached\nreached\nreached\nreached\nreached\nreached\nreached\nreached\nreached\nreached\nreached\nreached\nreached\nreached\nreached\nreached\nreached\nreached\nreached\nreached\nreached\nreached\nreached\nreached\nreached\nreached\nreached\nreached\nreached\nreached\nreached\nreached\nreached\nreached\nreached\nreached\nreached\nreached\nreached\nreached\nreached\nreached\nreached\nreached\nreached\nreached\nreached\nreached\nreached\nreached\nreached\nreached\nreached\nreached\nreached\nreached\nreached\nreached\nreached\nreached\nreached\nreached\nreached\nreached\nreached\nreached\nreached\nreached\nreached\nreached\nreached\nreached\nreached\nreached\nreached\nreached\nreached\nreached\nreached\nreached\nreached\nreached\nreached\nreached\nreached\nreached\nreached\nreached\nreached\nreached\nreached\nreached\nreached\nreached\nreached\nreached\nreached\nreached\nreached\nreached\nreached\nreached\nreached\nreached\nreached\nreached\nreached\nreached\nreached\nreached\nreached\nreached\nreached\nreached\nreached\nreached\nreached\nreached\nreached\nreached\nreached\nreached\nreached\nreached\nreached\nreached\nreached\nreached\nreached\nreached\nreached\nreached\nreached\nreached\nreached\nreached\nreached\nreached\nreached\nreached\nreached\nreached\nreached\nreached\nreached\nreached\nreached\nreached\nreached\nreached\nreached\nreached\nreached\nreached\nreached\nreached\nreached\nreached\nreached\nreached\nreached\nreached\nreached\nreached\nreached\nreached\nreached\nreached\nreached\nreached\nreached\nreached\nreached\nreached\nreached\nreached\nreached\nreached\nreached\nreached\nreached\nreached\nreached\nreached\nreached\nreached\nreached\nreached\nreached\nreached\nreached\nreached\nreached\nreached\nreached\nreached\nreached\nreached\nreached\nreached\nreached\nreached\nreached\nreached\nreached\nreached\nreached\nreached\nreached\nreached\nreached\nreached\nreached\nreached\nreached\nreached\nreached\nreached\nreached\nreached\nreached\nreached\nreached\nreached\nreached\nreached\nreached\nreached\nreached\nreached\nreached\nreached\nreached\nreached\nreached\nreached\nreached\nreached\nreached\nreached\nreached\nreached\nreached\nreached\nreached\nreached\nreached\nreached\nreached\nreached\nreached\nreached\nreached\nreached\nreached\nreached\nreached\nreached\nreached\nreached\nreached\nreached\nreached\nreached\nreached\nreached\nreached\nreached\nreached\nreached\nreached\nreached\nreached\nreached\n"
                }
            ],
            "source": "all_venues= pd.DataFrame()\n\n\nfor ind in df_final.index:\n\n   \n    lat = str(df_final['Latitude'][ind])\n    lng = str(df_final['Longitude'][ind])\n\n    #print(str(\"\\n\"+ df_final['outcode'][ind])+ \"+++++++++++\"+ str(ind)+\"\\n\")\n \n    payload = {'client_id': CLIENT_ID, 'client_secret': CLIENT_SECRET, 'll': lat+','+lng , 'radius':1500, 'v':'20180323'}\n\n    resp = requests.get(fourSqAPIURL,params=payload)\n\n    data = resp.json()\n    \n    #print(data)\n    try:\n        for items in data[\"response\"][\"groups\"][0][\"items\"]:\n           \n            all_venues = all_venues.append(fetch_venue_Details(df_final['Postal Code'][ind],lat,lng,items))\n            print('reached')\n            all_venues.head()\n    except:\n        print(str(df_final['outcode'][ind])+ \"-----EMPTY------------\")\n        empty_venue = {'Postal Code':df_final['Postal Code'][ind],'Latitude':lat, 'Longitude':lng,'Type':[],'Name':[]}\n        all_venues.append(pd.DataFrame(empty_venue))"
        },
        {
            "cell_type": "code",
            "execution_count": 157,
            "metadata": {},
            "outputs": [
                {
                    "data": {
                        "text/html": "<div>\n<style scoped>\n    .dataframe tbody tr th:only-of-type {\n        vertical-align: middle;\n    }\n\n    .dataframe tbody tr th {\n        vertical-align: top;\n    }\n\n    .dataframe thead th {\n        text-align: right;\n    }\n</style>\n<table border=\"1\" class=\"dataframe\">\n  <thead>\n    <tr style=\"text-align: right;\">\n      <th></th>\n      <th>Postal Code</th>\n      <th>Latitude</th>\n      <th>Longitude</th>\n      <th>Type</th>\n      <th>Name</th>\n    </tr>\n  </thead>\n  <tbody>\n    <tr>\n      <th>0</th>\n      <td>BH1</td>\n      <td>50.724864264209</td>\n      <td>-1.8609877127496226</td>\n      <td>Pizza Places</td>\n      <td>Bournemouth Pizza Co.</td>\n    </tr>\n    <tr>\n      <th>1</th>\n      <td>BH1</td>\n      <td>50.724864264209</td>\n      <td>-1.8609877127496226</td>\n      <td>Italian Restaurants</td>\n      <td>La Piccola Italia</td>\n    </tr>\n    <tr>\n      <th>2</th>\n      <td>BH1</td>\n      <td>50.724864264209</td>\n      <td>-1.8609877127496226</td>\n      <td>Beaches</td>\n      <td>Bournemouth Beach (Toft Zig Zag)</td>\n    </tr>\n    <tr>\n      <th>3</th>\n      <td>BH1</td>\n      <td>50.724864264209</td>\n      <td>-1.8609877127496226</td>\n      <td>Indian Restaurants</td>\n      <td>Spice of Lahore</td>\n    </tr>\n    <tr>\n      <th>4</th>\n      <td>BH1</td>\n      <td>50.724864264209</td>\n      <td>-1.8609877127496226</td>\n      <td>Pubs</td>\n      <td>Inferno</td>\n    </tr>\n  </tbody>\n</table>\n</div>",
                        "text/plain": "  Postal Code         Latitude            Longitude                 Type  \\\n0         BH1  50.724864264209  -1.8609877127496226         Pizza Places   \n1         BH1  50.724864264209  -1.8609877127496226  Italian Restaurants   \n2         BH1  50.724864264209  -1.8609877127496226              Beaches   \n3         BH1  50.724864264209  -1.8609877127496226   Indian Restaurants   \n4         BH1  50.724864264209  -1.8609877127496226                 Pubs   \n\n                               Name  \n0             Bournemouth Pizza Co.  \n1                 La Piccola Italia  \n2  Bournemouth Beach (Toft Zig Zag)  \n3                   Spice of Lahore  \n4                           Inferno  "
                    },
                    "execution_count": 157,
                    "metadata": {},
                    "output_type": "execute_result"
                }
            ],
            "source": "all_venues = all_venues.reset_index(drop=True)\n\n\nall_venues.head()"
        },
        {
            "cell_type": "code",
            "execution_count": 158,
            "metadata": {},
            "outputs": [],
            "source": "neighbourhood_analysis = pd.get_dummies(all_venues,prefix='',prefix_sep='',columns=['Type'])"
        },
        {
            "cell_type": "code",
            "execution_count": 159,
            "metadata": {},
            "outputs": [],
            "source": "mean_data = neighbourhood_analysis.set_index(['Postal Code'])\nmean_data = mean_data.groupby(level='Postal Code').mean()"
        },
        {
            "cell_type": "code",
            "execution_count": 160,
            "metadata": {},
            "outputs": [
                {
                    "data": {
                        "text/html": "<div>\n<style scoped>\n    .dataframe tbody tr th:only-of-type {\n        vertical-align: middle;\n    }\n\n    .dataframe tbody tr th {\n        vertical-align: top;\n    }\n\n    .dataframe thead th {\n        text-align: right;\n    }\n</style>\n<table border=\"1\" class=\"dataframe\">\n  <thead>\n    <tr style=\"text-align: right;\">\n      <th></th>\n      <th>American Restaurants</th>\n      <th>Art Museums</th>\n      <th>Arts &amp; Crafts Stores</th>\n      <th>Athletics &amp; Sports</th>\n      <th>Bakeries</th>\n      <th>Bars</th>\n      <th>Beaches</th>\n      <th>Bed &amp; Breakfasts</th>\n      <th>Beer Bars</th>\n      <th>Bistros</th>\n      <th>...</th>\n      <th>Toy / Game Stores</th>\n      <th>Trails</th>\n      <th>Train Stations</th>\n      <th>Turkish Restaurants</th>\n      <th>Vegetarian / Vegan Restaurants</th>\n      <th>Video Game Stores</th>\n      <th>Warehouse Stores</th>\n      <th>Wine Bars</th>\n      <th>Women's Stores</th>\n      <th>Zoos</th>\n    </tr>\n    <tr>\n      <th>Postal Code</th>\n      <th></th>\n      <th></th>\n      <th></th>\n      <th></th>\n      <th></th>\n      <th></th>\n      <th></th>\n      <th></th>\n      <th></th>\n      <th></th>\n      <th></th>\n      <th></th>\n      <th></th>\n      <th></th>\n      <th></th>\n      <th></th>\n      <th></th>\n      <th></th>\n      <th></th>\n      <th></th>\n      <th></th>\n    </tr>\n  </thead>\n  <tbody>\n    <tr>\n      <th>BH1</th>\n      <td>0.0</td>\n      <td>0.033333</td>\n      <td>0.0</td>\n      <td>0.0</td>\n      <td>0.0</td>\n      <td>0.0</td>\n      <td>0.100000</td>\n      <td>0.0</td>\n      <td>0.0</td>\n      <td>0.0</td>\n      <td>...</td>\n      <td>0.0</td>\n      <td>0.0</td>\n      <td>0.000000</td>\n      <td>0.033333</td>\n      <td>0.0</td>\n      <td>0.0</td>\n      <td>0.0</td>\n      <td>0.0</td>\n      <td>0.0</td>\n      <td>0.0</td>\n    </tr>\n    <tr>\n      <th>BH10</th>\n      <td>0.0</td>\n      <td>0.000000</td>\n      <td>0.0</td>\n      <td>0.0</td>\n      <td>0.0</td>\n      <td>0.0</td>\n      <td>0.000000</td>\n      <td>0.0</td>\n      <td>0.0</td>\n      <td>0.0</td>\n      <td>...</td>\n      <td>0.0</td>\n      <td>0.0</td>\n      <td>0.000000</td>\n      <td>0.000000</td>\n      <td>0.0</td>\n      <td>0.0</td>\n      <td>0.0</td>\n      <td>0.0</td>\n      <td>0.0</td>\n      <td>0.0</td>\n    </tr>\n    <tr>\n      <th>BH11</th>\n      <td>0.0</td>\n      <td>0.000000</td>\n      <td>0.0</td>\n      <td>0.0</td>\n      <td>0.0</td>\n      <td>0.0</td>\n      <td>0.000000</td>\n      <td>0.0</td>\n      <td>0.0</td>\n      <td>0.0</td>\n      <td>...</td>\n      <td>0.0</td>\n      <td>0.0</td>\n      <td>0.000000</td>\n      <td>0.000000</td>\n      <td>0.0</td>\n      <td>0.0</td>\n      <td>0.0</td>\n      <td>0.0</td>\n      <td>0.0</td>\n      <td>0.0</td>\n    </tr>\n    <tr>\n      <th>BH12</th>\n      <td>0.0</td>\n      <td>0.000000</td>\n      <td>0.0</td>\n      <td>0.0</td>\n      <td>0.0</td>\n      <td>0.0</td>\n      <td>0.000000</td>\n      <td>0.0</td>\n      <td>0.0</td>\n      <td>0.0</td>\n      <td>...</td>\n      <td>0.0</td>\n      <td>0.0</td>\n      <td>0.047619</td>\n      <td>0.000000</td>\n      <td>0.0</td>\n      <td>0.0</td>\n      <td>0.0</td>\n      <td>0.0</td>\n      <td>0.0</td>\n      <td>0.0</td>\n    </tr>\n    <tr>\n      <th>BH13</th>\n      <td>0.0</td>\n      <td>0.000000</td>\n      <td>0.0</td>\n      <td>0.0</td>\n      <td>0.0</td>\n      <td>0.0</td>\n      <td>0.214286</td>\n      <td>0.0</td>\n      <td>0.0</td>\n      <td>0.0</td>\n      <td>...</td>\n      <td>0.0</td>\n      <td>0.0</td>\n      <td>0.000000</td>\n      <td>0.000000</td>\n      <td>0.0</td>\n      <td>0.0</td>\n      <td>0.0</td>\n      <td>0.0</td>\n      <td>0.0</td>\n      <td>0.0</td>\n    </tr>\n  </tbody>\n</table>\n<p>5 rows \u00d7 107 columns</p>\n</div>",
                        "text/plain": "             American Restaurants  Art Museums  Arts & Crafts Stores  \\\nPostal Code                                                            \nBH1                           0.0     0.033333                   0.0   \nBH10                          0.0     0.000000                   0.0   \nBH11                          0.0     0.000000                   0.0   \nBH12                          0.0     0.000000                   0.0   \nBH13                          0.0     0.000000                   0.0   \n\n             Athletics & Sports  Bakeries  Bars   Beaches  Bed & Breakfasts  \\\nPostal Code                                                                   \nBH1                         0.0       0.0   0.0  0.100000               0.0   \nBH10                        0.0       0.0   0.0  0.000000               0.0   \nBH11                        0.0       0.0   0.0  0.000000               0.0   \nBH12                        0.0       0.0   0.0  0.000000               0.0   \nBH13                        0.0       0.0   0.0  0.214286               0.0   \n\n             Beer Bars  Bistros  ...  Toy / Game Stores  Trails  \\\nPostal Code                      ...                              \nBH1                0.0      0.0  ...                0.0     0.0   \nBH10               0.0      0.0  ...                0.0     0.0   \nBH11               0.0      0.0  ...                0.0     0.0   \nBH12               0.0      0.0  ...                0.0     0.0   \nBH13               0.0      0.0  ...                0.0     0.0   \n\n             Train Stations  Turkish Restaurants  \\\nPostal Code                                        \nBH1                0.000000             0.033333   \nBH10               0.000000             0.000000   \nBH11               0.000000             0.000000   \nBH12               0.047619             0.000000   \nBH13               0.000000             0.000000   \n\n             Vegetarian / Vegan Restaurants  Video Game Stores  \\\nPostal Code                                                      \nBH1                                     0.0                0.0   \nBH10                                    0.0                0.0   \nBH11                                    0.0                0.0   \nBH12                                    0.0                0.0   \nBH13                                    0.0                0.0   \n\n             Warehouse Stores  Wine Bars  Women's Stores  Zoos  \nPostal Code                                                     \nBH1                       0.0        0.0             0.0   0.0  \nBH10                      0.0        0.0             0.0   0.0  \nBH11                      0.0        0.0             0.0   0.0  \nBH12                      0.0        0.0             0.0   0.0  \nBH13                      0.0        0.0             0.0   0.0  \n\n[5 rows x 107 columns]"
                    },
                    "execution_count": 160,
                    "metadata": {},
                    "output_type": "execute_result"
                }
            ],
            "source": "mean_data.head()"
        },
        {
            "cell_type": "markdown",
            "metadata": {},
            "source": "# For Segmenting we will segment into 4 distinct clusters"
        },
        {
            "cell_type": "code",
            "execution_count": 161,
            "metadata": {},
            "outputs": [
                {
                    "data": {
                        "text/plain": "array([1, 0, 0, 0, 1, 1, 1, 1, 0, 0, 1, 1, 3, 2, 0, 0, 1, 0, 1, 0, 1, 1,\n       1, 1, 1, 0], dtype=int32)"
                    },
                    "execution_count": 161,
                    "metadata": {},
                    "output_type": "execute_result"
                }
            ],
            "source": "from sklearn.cluster import KMeans\n\n#clusters\nk=4\n\nkmean = KMeans(n_clusters = k, random_state = 0, max_iter =500).fit(mean_data.to_numpy())\nkmean.labels_\n"
        },
        {
            "cell_type": "code",
            "execution_count": 162,
            "metadata": {},
            "outputs": [
                {
                    "data": {
                        "text/html": "<div>\n<style scoped>\n    .dataframe tbody tr th:only-of-type {\n        vertical-align: middle;\n    }\n\n    .dataframe tbody tr th {\n        vertical-align: top;\n    }\n\n    .dataframe thead th {\n        text-align: right;\n    }\n</style>\n<table border=\"1\" class=\"dataframe\">\n  <thead>\n    <tr style=\"text-align: right;\">\n      <th></th>\n      <th>American Restaurants</th>\n      <th>Art Museums</th>\n      <th>Arts &amp; Crafts Stores</th>\n      <th>Athletics &amp; Sports</th>\n      <th>Bakeries</th>\n      <th>Bars</th>\n      <th>Beaches</th>\n      <th>Bed &amp; Breakfasts</th>\n      <th>Beer Bars</th>\n      <th>Bistros</th>\n      <th>...</th>\n      <th>Toy / Game Stores</th>\n      <th>Trails</th>\n      <th>Train Stations</th>\n      <th>Turkish Restaurants</th>\n      <th>Vegetarian / Vegan Restaurants</th>\n      <th>Video Game Stores</th>\n      <th>Warehouse Stores</th>\n      <th>Wine Bars</th>\n      <th>Women's Stores</th>\n      <th>Zoos</th>\n    </tr>\n    <tr>\n      <th>Segment</th>\n      <th></th>\n      <th></th>\n      <th></th>\n      <th></th>\n      <th></th>\n      <th></th>\n      <th></th>\n      <th></th>\n      <th></th>\n      <th></th>\n      <th></th>\n      <th></th>\n      <th></th>\n      <th></th>\n      <th></th>\n      <th></th>\n      <th></th>\n      <th></th>\n      <th></th>\n      <th></th>\n      <th></th>\n    </tr>\n  </thead>\n  <tbody>\n    <tr>\n      <th>0</th>\n      <td>0.000000</td>\n      <td>0.000000</td>\n      <td>0.000000</td>\n      <td>0.000000</td>\n      <td>0.005000</td>\n      <td>0.008333</td>\n      <td>0.00000</td>\n      <td>0.000000</td>\n      <td>0.000000</td>\n      <td>0.000000</td>\n      <td>...</td>\n      <td>0.000000</td>\n      <td>0.000000</td>\n      <td>0.013095</td>\n      <td>0.000000</td>\n      <td>0.000000</td>\n      <td>0.000000</td>\n      <td>0.005</td>\n      <td>0.000000</td>\n      <td>0.000000</td>\n      <td>0.000000</td>\n    </tr>\n    <tr>\n      <th>1</th>\n      <td>0.004762</td>\n      <td>0.002381</td>\n      <td>0.002381</td>\n      <td>0.002381</td>\n      <td>0.009524</td>\n      <td>0.038462</td>\n      <td>0.03733</td>\n      <td>0.002976</td>\n      <td>0.007143</td>\n      <td>0.002976</td>\n      <td>...</td>\n      <td>0.002976</td>\n      <td>0.002747</td>\n      <td>0.002976</td>\n      <td>0.014286</td>\n      <td>0.004762</td>\n      <td>0.009524</td>\n      <td>0.000</td>\n      <td>0.002747</td>\n      <td>0.002381</td>\n      <td>0.002747</td>\n    </tr>\n    <tr>\n      <th>2</th>\n      <td>0.000000</td>\n      <td>0.000000</td>\n      <td>0.000000</td>\n      <td>0.000000</td>\n      <td>0.000000</td>\n      <td>0.000000</td>\n      <td>0.00000</td>\n      <td>0.000000</td>\n      <td>0.000000</td>\n      <td>0.000000</td>\n      <td>...</td>\n      <td>0.000000</td>\n      <td>0.000000</td>\n      <td>0.000000</td>\n      <td>0.000000</td>\n      <td>0.000000</td>\n      <td>0.000000</td>\n      <td>0.000</td>\n      <td>0.000000</td>\n      <td>0.000000</td>\n      <td>0.000000</td>\n    </tr>\n    <tr>\n      <th>3</th>\n      <td>0.000000</td>\n      <td>0.000000</td>\n      <td>0.000000</td>\n      <td>0.000000</td>\n      <td>0.000000</td>\n      <td>0.000000</td>\n      <td>0.00000</td>\n      <td>0.000000</td>\n      <td>0.000000</td>\n      <td>0.000000</td>\n      <td>...</td>\n      <td>0.000000</td>\n      <td>0.000000</td>\n      <td>0.000000</td>\n      <td>0.000000</td>\n      <td>0.000000</td>\n      <td>0.000000</td>\n      <td>0.000</td>\n      <td>0.000000</td>\n      <td>0.000000</td>\n      <td>0.000000</td>\n    </tr>\n  </tbody>\n</table>\n<p>4 rows \u00d7 107 columns</p>\n</div>",
                        "text/plain": "         American Restaurants  Art Museums  Arts & Crafts Stores  \\\nSegment                                                            \n0                    0.000000     0.000000              0.000000   \n1                    0.004762     0.002381              0.002381   \n2                    0.000000     0.000000              0.000000   \n3                    0.000000     0.000000              0.000000   \n\n         Athletics & Sports  Bakeries      Bars  Beaches  Bed & Breakfasts  \\\nSegment                                                                      \n0                  0.000000  0.005000  0.008333  0.00000          0.000000   \n1                  0.002381  0.009524  0.038462  0.03733          0.002976   \n2                  0.000000  0.000000  0.000000  0.00000          0.000000   \n3                  0.000000  0.000000  0.000000  0.00000          0.000000   \n\n         Beer Bars   Bistros  ...  Toy / Game Stores    Trails  \\\nSegment                       ...                                \n0         0.000000  0.000000  ...           0.000000  0.000000   \n1         0.007143  0.002976  ...           0.002976  0.002747   \n2         0.000000  0.000000  ...           0.000000  0.000000   \n3         0.000000  0.000000  ...           0.000000  0.000000   \n\n         Train Stations  Turkish Restaurants  Vegetarian / Vegan Restaurants  \\\nSegment                                                                        \n0              0.013095             0.000000                        0.000000   \n1              0.002976             0.014286                        0.004762   \n2              0.000000             0.000000                        0.000000   \n3              0.000000             0.000000                        0.000000   \n\n         Video Game Stores  Warehouse Stores  Wine Bars  Women's Stores  \\\nSegment                                                                   \n0                 0.000000             0.005   0.000000        0.000000   \n1                 0.009524             0.000   0.002747        0.002381   \n2                 0.000000             0.000   0.000000        0.000000   \n3                 0.000000             0.000   0.000000        0.000000   \n\n             Zoos  \nSegment            \n0        0.000000  \n1        0.002747  \n2        0.000000  \n3        0.000000  \n\n[4 rows x 107 columns]"
                    },
                    "execution_count": 162,
                    "metadata": {},
                    "output_type": "execute_result"
                }
            ],
            "source": "mean_data['Segment'] = kmean.labels_\ndata_analysis = mean_data.groupby('Segment').mean()\n\ndata_analysis"
        },
        {
            "cell_type": "code",
            "execution_count": 165,
            "metadata": {},
            "outputs": [
                {
                    "name": "stdout",
                    "output_type": "stream",
                    "text": "\n\n----------------------------SEGMENT =1-------------------------------------------------------------------------------------------------------\nCoffee Shops=0.048888888888888885\nFast Food Restaurants=0.04955128205128205\nGrocery Stores=0.16890262515262514\nPharmacies=0.04029761904761904\nPizza Places=0.0448015873015873\nPubs=0.07914072039072038\nSupermarkets=0.11770604395604396\n\n\n----------------------------SEGMENT =2-------------------------------------------------------------------------------------------------------\nBars=0.03846153846153846\nBeaches=0.03732993197278912\nCaf\u00e9s=0.059379905808477226\nCoffee Shops=0.10810439560439562\nParks=0.047619047619047616\nPubs=0.09063317634746207\nSupermarkets=0.03205128205128205\n\n\n----------------------------SEGMENT =3-------------------------------------------------------------------------------------------------------\nConstruction & Landscaping=0.25\nGas Stations=0.25\nGrocery Stores=0.25\nThrift / Vintage Stores=0.25\n\n\n----------------------------SEGMENT =4-------------------------------------------------------------------------------------------------------\nEvent Services=0.5\nRental Services=0.5\n"
                }
            ],
            "source": "cols = list(data_analysis.columns)\nindices = list(data_analysis.index)\n\n\nfor ind in indices:\n    print ('\\n\\n----------------------------SEGMENT =' + str(ind+1)+'-------------------------------------------------------------------------------------------------------')\n    for col in cols:\n        if(data_analysis[col][ind]>0.03):\n            print(str(col)+'='+str(data_analysis[col][ind]))"
        },
        {
            "cell_type": "code",
            "execution_count": 163,
            "metadata": {},
            "outputs": [
                {
                    "data": {
                        "text/html": "<div>\n<style scoped>\n    .dataframe tbody tr th:only-of-type {\n        vertical-align: middle;\n    }\n\n    .dataframe tbody tr th {\n        vertical-align: top;\n    }\n\n    .dataframe thead th {\n        text-align: right;\n    }\n</style>\n<table border=\"1\" class=\"dataframe\">\n  <thead>\n    <tr style=\"text-align: right;\">\n      <th></th>\n      <th>Postal Code</th>\n      <th>Latitude</th>\n      <th>Longitude</th>\n      <th>House Price</th>\n      <th>Segment</th>\n    </tr>\n  </thead>\n  <tbody>\n    <tr>\n      <th>0</th>\n      <td>BH1</td>\n      <td>50.724864</td>\n      <td>-1.860988</td>\n      <td>\u00a3473,737</td>\n      <td>1</td>\n    </tr>\n    <tr>\n      <th>1</th>\n      <td>BH10</td>\n      <td>50.759580</td>\n      <td>-1.892961</td>\n      <td>\u00a3319,981</td>\n      <td>0</td>\n    </tr>\n    <tr>\n      <th>2</th>\n      <td>BH11</td>\n      <td>50.762143</td>\n      <td>-1.919640</td>\n      <td>\u00a3314,385</td>\n      <td>0</td>\n    </tr>\n    <tr>\n      <th>3</th>\n      <td>BH12</td>\n      <td>50.737363</td>\n      <td>-1.927771</td>\n      <td>\u00a3312,703</td>\n      <td>0</td>\n    </tr>\n    <tr>\n      <th>4</th>\n      <td>BH13</td>\n      <td>50.708815</td>\n      <td>-1.920506</td>\n      <td>\u00a31,612,349</td>\n      <td>1</td>\n    </tr>\n    <tr>\n      <th>5</th>\n      <td>BH14</td>\n      <td>50.721349</td>\n      <td>-1.944453</td>\n      <td>\u00a3712,123</td>\n      <td>1</td>\n    </tr>\n    <tr>\n      <th>6</th>\n      <td>BH15</td>\n      <td>50.722376</td>\n      <td>-1.984975</td>\n      <td>\u00a3363,262</td>\n      <td>1</td>\n    </tr>\n    <tr>\n      <th>7</th>\n      <td>BH16</td>\n      <td>50.740211</td>\n      <td>-2.047840</td>\n      <td>\u00a3388,158</td>\n      <td>1</td>\n    </tr>\n    <tr>\n      <th>8</th>\n      <td>BH17</td>\n      <td>50.746884</td>\n      <td>-1.980080</td>\n      <td>\u00a3332,855</td>\n      <td>0</td>\n    </tr>\n    <tr>\n      <th>9</th>\n      <td>BH18</td>\n      <td>50.759552</td>\n      <td>-1.998470</td>\n      <td>\u00a3485,518</td>\n      <td>0</td>\n    </tr>\n    <tr>\n      <th>10</th>\n      <td>BH19</td>\n      <td>50.611670</td>\n      <td>-1.970711</td>\n      <td>\u00a3544,777</td>\n      <td>1</td>\n    </tr>\n    <tr>\n      <th>11</th>\n      <td>BH2</td>\n      <td>50.721072</td>\n      <td>-1.884056</td>\n      <td>\u00a3594,750</td>\n      <td>1</td>\n    </tr>\n    <tr>\n      <th>12</th>\n      <td>BH20</td>\n      <td>50.687002</td>\n      <td>-2.148341</td>\n      <td>\u00a3441,536</td>\n      <td>3</td>\n    </tr>\n    <tr>\n      <th>13</th>\n      <td>BH21</td>\n      <td>50.812856</td>\n      <td>-1.974672</td>\n      <td>\u00a3490,747</td>\n      <td>2</td>\n    </tr>\n    <tr>\n      <th>14</th>\n      <td>BH22</td>\n      <td>50.805327</td>\n      <td>-1.888596</td>\n      <td>\u00a3467,071</td>\n      <td>0</td>\n    </tr>\n    <tr>\n      <th>15</th>\n      <td>BH23</td>\n      <td>50.747471</td>\n      <td>-1.754571</td>\n      <td>\u00a3493,049</td>\n      <td>0</td>\n    </tr>\n    <tr>\n      <th>16</th>\n      <td>BH24</td>\n      <td>50.843272</td>\n      <td>-1.788325</td>\n      <td>\u00a3545,088</td>\n      <td>1</td>\n    </tr>\n    <tr>\n      <th>17</th>\n      <td>BH25</td>\n      <td>50.752814</td>\n      <td>-1.657952</td>\n      <td>\u00a3473,508</td>\n      <td>0</td>\n    </tr>\n    <tr>\n      <th>18</th>\n      <td>BH3</td>\n      <td>50.736581</td>\n      <td>-1.883354</td>\n      <td>\u00a3718,151</td>\n      <td>1</td>\n    </tr>\n    <tr>\n      <th>19</th>\n      <td>BH31</td>\n      <td>50.875970</td>\n      <td>-1.872621</td>\n      <td>\u00a3411,698</td>\n      <td>0</td>\n    </tr>\n    <tr>\n      <th>20</th>\n      <td>BH4</td>\n      <td>50.721266</td>\n      <td>-1.899715</td>\n      <td>\u00a3714,105</td>\n      <td>1</td>\n    </tr>\n    <tr>\n      <th>21</th>\n      <td>BH5</td>\n      <td>50.725312</td>\n      <td>-1.832305</td>\n      <td>\u00a3556,806</td>\n      <td>1</td>\n    </tr>\n    <tr>\n      <th>22</th>\n      <td>BH6</td>\n      <td>50.727644</td>\n      <td>-1.801927</td>\n      <td>\u00a3493,807</td>\n      <td>1</td>\n    </tr>\n    <tr>\n      <th>23</th>\n      <td>BH7</td>\n      <td>50.736343</td>\n      <td>-1.826573</td>\n      <td>\u00a3437,582</td>\n      <td>1</td>\n    </tr>\n    <tr>\n      <th>24</th>\n      <td>BH8</td>\n      <td>50.742079</td>\n      <td>-1.851884</td>\n      <td>\u00a3421,272</td>\n      <td>1</td>\n    </tr>\n    <tr>\n      <th>25</th>\n      <td>BH9</td>\n      <td>50.749616</td>\n      <td>-1.872753</td>\n      <td>\u00a3351,483</td>\n      <td>0</td>\n    </tr>\n  </tbody>\n</table>\n</div>",
                        "text/plain": "   Postal Code   Latitude  Longitude House Price  Segment\n0          BH1  50.724864  -1.860988    \u00a3473,737        1\n1         BH10  50.759580  -1.892961    \u00a3319,981        0\n2         BH11  50.762143  -1.919640    \u00a3314,385        0\n3         BH12  50.737363  -1.927771    \u00a3312,703        0\n4         BH13  50.708815  -1.920506  \u00a31,612,349        1\n5         BH14  50.721349  -1.944453    \u00a3712,123        1\n6         BH15  50.722376  -1.984975    \u00a3363,262        1\n7         BH16  50.740211  -2.047840    \u00a3388,158        1\n8         BH17  50.746884  -1.980080    \u00a3332,855        0\n9         BH18  50.759552  -1.998470    \u00a3485,518        0\n10        BH19  50.611670  -1.970711    \u00a3544,777        1\n11         BH2  50.721072  -1.884056    \u00a3594,750        1\n12        BH20  50.687002  -2.148341    \u00a3441,536        3\n13        BH21  50.812856  -1.974672    \u00a3490,747        2\n14        BH22  50.805327  -1.888596    \u00a3467,071        0\n15        BH23  50.747471  -1.754571    \u00a3493,049        0\n16        BH24  50.843272  -1.788325    \u00a3545,088        1\n17        BH25  50.752814  -1.657952    \u00a3473,508        0\n18         BH3  50.736581  -1.883354    \u00a3718,151        1\n19        BH31  50.875970  -1.872621    \u00a3411,698        0\n20         BH4  50.721266  -1.899715    \u00a3714,105        1\n21         BH5  50.725312  -1.832305    \u00a3556,806        1\n22         BH6  50.727644  -1.801927    \u00a3493,807        1\n23         BH7  50.736343  -1.826573    \u00a3437,582        1\n24         BH8  50.742079  -1.851884    \u00a3421,272        1\n25         BH9  50.749616  -1.872753    \u00a3351,483        0"
                    },
                    "execution_count": 163,
                    "metadata": {},
                    "output_type": "execute_result"
                }
            ],
            "source": "df_merged = pd.merge(df_final,mean_data['Segment'], how='left', on='Postal Code')\ndf_merged.groupby('Segment').count()['Postal Code']\ndf_merged"
        },
        {
            "cell_type": "code",
            "execution_count": 166,
            "metadata": {},
            "outputs": [
                {
                    "ename": "ModuleNotFoundError",
                    "evalue": "No module named 'folium'",
                    "output_type": "error",
                    "traceback": [
                        "\u001b[0;31m---------------------------------------------------------------------------\u001b[0m",
                        "\u001b[0;31mModuleNotFoundError\u001b[0m                       Traceback (most recent call last)",
                        "\u001b[0;32m<ipython-input-166-b65f41d93019>\u001b[0m in \u001b[0;36m<module>\u001b[0;34m\u001b[0m\n\u001b[0;32m----> 1\u001b[0;31m \u001b[0;32mimport\u001b[0m \u001b[0mfolium\u001b[0m\u001b[0;34m\u001b[0m\u001b[0;34m\u001b[0m\u001b[0m\n\u001b[0m\u001b[1;32m      2\u001b[0m \u001b[0;34m\u001b[0m\u001b[0m\n\u001b[1;32m      3\u001b[0m \u001b[0;34m\u001b[0m\u001b[0m\n\u001b[1;32m      4\u001b[0m \u001b[0mm\u001b[0m \u001b[0;34m=\u001b[0m \u001b[0mfolium\u001b[0m\u001b[0;34m.\u001b[0m\u001b[0mMap\u001b[0m\u001b[0;34m(\u001b[0m\u001b[0mlocation\u001b[0m\u001b[0;34m=\u001b[0m\u001b[0;34m[\u001b[0m\u001b[0;36m50.720806\u001b[0m\u001b[0;34m,\u001b[0m\u001b[0;34m-\u001b[0m\u001b[0;36m1.904755\u001b[0m\u001b[0;34m]\u001b[0m\u001b[0;34m,\u001b[0m\u001b[0mzoom_start\u001b[0m\u001b[0;34m=\u001b[0m\u001b[0;36m12\u001b[0m\u001b[0;34m)\u001b[0m\u001b[0;34m\u001b[0m\u001b[0;34m\u001b[0m\u001b[0m\n\u001b[1;32m      5\u001b[0m \u001b[0;34m\u001b[0m\u001b[0m\n",
                        "\u001b[0;31mModuleNotFoundError\u001b[0m: No module named 'folium'"
                    ]
                }
            ],
            "source": "import folium\n \n\nm = folium.Map(location=[50.720806,-1.904755],zoom_start=12)\n\nfor ind in df_merged.index:\n\n    div = folium.DivIcon(html=(\n        '<svg height=\"50\" width=\"50\">'\n        '<circle cx=\"15\" cy=\"15\" r=\"10\" stroke=\"yellow\" stroke-width=\"3\" fill=\"yellow\" />'\n        '<text x=\"10\" y=\"20\" fill=\"black\">'+str(df_merged['Segment'][ind]+1)+ '</text>'\n        '</svg>'\n    ))\n    folium.Marker((df_merged['Latitude'][ind],df_merged['Longitude'][ind]), icon=div).add_to(m)\n\nm"
        },
        {
            "cell_type": "code",
            "execution_count": null,
            "metadata": {},
            "outputs": [],
            "source": ""
        }
    ],
    "metadata": {
        "kernelspec": {
            "display_name": "Python 3.6",
            "language": "python",
            "name": "python3"
        },
        "language_info": {
            "codemirror_mode": {
                "name": "ipython",
                "version": 3
            },
            "file_extension": ".py",
            "mimetype": "text/x-python",
            "name": "python",
            "nbconvert_exporter": "python",
            "pygments_lexer": "ipython3",
            "version": "3.6.9"
        }
    },
    "nbformat": 4,
    "nbformat_minor": 1
}